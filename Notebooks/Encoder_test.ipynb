{
 "cells": [
  {
   "cell_type": "code",
   "execution_count": 9,
   "metadata": {},
   "outputs": [],
   "source": [
    "import pandas as pd\n",
    "import numpy as np\n",
    "from datetime import datetime\n",
    "from datetime import timedelta\n",
    "from nltk.tokenize import RegexpTokenizer\n",
    "from nltk.tokenize import word_tokenize\n",
    "from nltk.corpus import stopwords"
   ]
  },
  {
   "cell_type": "markdown",
   "metadata": {},
   "source": [
    "# Encoder"
   ]
  },
  {
   "cell_type": "code",
   "execution_count": 10,
   "metadata": {},
   "outputs": [],
   "source": [
    "#def Encode(string):\n",
    "title = 'I want to become an army officer. What can I do to become an army officer?'\n",
    "body = 'I am Priyanka from Bangalore . Now am in 10th std . When I go to college I should not get confused on what I want to take to become army officer. So I am asking this question  #military #army'\n",
    "date_string = '2016-05-20 16:48:25 UTC+0000'\n",
    "date_dt = datetime.strptime(date_string[:9], '%Y-%d-%m')\n",
    "date_diff = date_dt - datetime.strptime('1900-01-01', '%Y-%d-%m')\n",
    "date_numeric = date_diff.days\n",
    "coded = [date_numeric, 1]\n",
    "index_df = pd.read_csv('word_index.csv', index_col=0)\n",
    "tokenizer = RegexpTokenizer(r'\\w+')\n",
    "results = tokenizer.tokenize(title)\n",
    "stop_words = set(stopwords.words('english'))"
   ]
  },
  {
   "cell_type": "code",
   "execution_count": 11,
   "metadata": {},
   "outputs": [
    {
     "name": "stdout",
     "output_type": "stream",
     "text": [
      "[42403, 1, 18423, 18472, 15566, 15780, 18472, 15566, 15780]\n"
     ]
    }
   ],
   "source": [
    "for word in results:\n",
    "    word = word.lower()\n",
    "    if word not in stop_words:\n",
    "        try:\n",
    "            coded.append(index_df.loc[word].values[0])\n",
    "        except:\n",
    "            coded.append(3)\n",
    "print(coded)"
   ]
  },
  {
   "cell_type": "code",
   "execution_count": 12,
   "metadata": {},
   "outputs": [],
   "source": [
    "coded.append(2)\n",
    "results = tokenizer.tokenize(body)\n",
    "for word in results:\n",
    "    word = word.lower()\n",
    "    if word not in stop_words:\n",
    "        try:\n",
    "            coded.append(index_df.loc[word].values[0])\n",
    "        except:\n",
    "            coded.append(3)"
   ]
  },
  {
   "cell_type": "code",
   "execution_count": 13,
   "metadata": {},
   "outputs": [
    {
     "name": "stdout",
     "output_type": "stream",
     "text": [
      "[42403, 1, 18423, 18472, 15566, 15780, 18472, 15566, 15780, 2, 9764, 6, 17505, 8, 18461, 16545, 18370, 18078, 18423, 18219, 18472, 15566, 15780, 18159, 18176, 17690, 15566]\n"
     ]
    }
   ],
   "source": [
    "print(coded)"
   ]
  },
  {
   "cell_type": "markdown",
   "metadata": {},
   "source": [
    "# Decoder"
   ]
  },
  {
   "cell_type": "code",
   "execution_count": 20,
   "metadata": {},
   "outputs": [
    {
     "name": "stdout",
     "output_type": "stream",
     "text": [
      "['2016-02-05 00:00:00', '<TITLE>']\n"
     ]
    }
   ],
   "source": [
    "decoded = []\n",
    "index_df = pd.read_csv('word_index.csv', index_col=0)\n",
    "index_df.reset_index(inplace=True)\n",
    "index_df.set_index('0', inplace=True)\n",
    "date_dt = datetime.strptime('1900-01-01', '%Y-%d-%m') + timedelta(days=coded[0])\n",
    "date_string = str(date_dt)\n",
    "decoded.append(date_string)\n",
    "decoded.append('<TITLE>')\n",
    "print(decoded)"
   ]
  },
  {
   "cell_type": "code",
   "execution_count": 21,
   "metadata": {},
   "outputs": [],
   "source": [
    "for word in coded[2:]:\n",
    "    decoded.append(index_df.loc[word].values[0])"
   ]
  },
  {
   "cell_type": "code",
   "execution_count": 22,
   "metadata": {},
   "outputs": [
    {
     "name": "stdout",
     "output_type": "stream",
     "text": [
      "['2016-02-05 00:00:00', '<TITLE>', 'want', 'become', 'army', 'officer', 'become', 'army', 'officer', '<BODY>', 'priyanka', 'bangalore', '10th', 'std', 'go', 'college', 'get', 'confused', 'want', 'take', 'become', 'army', 'officer', 'asking', 'question', 'military', 'army']\n"
     ]
    }
   ],
   "source": [
    "print(decoded)"
   ]
  },
  {
   "cell_type": "code",
   "execution_count": null,
   "metadata": {},
   "outputs": [],
   "source": []
  }
 ],
 "metadata": {
  "kernelspec": {
   "display_name": "Python [conda env:PythonData]",
   "language": "python",
   "name": "conda-env-PythonData-py"
  },
  "language_info": {
   "codemirror_mode": {
    "name": "ipython",
    "version": 3
   },
   "file_extension": ".py",
   "mimetype": "text/x-python",
   "name": "python",
   "nbconvert_exporter": "python",
   "pygments_lexer": "ipython3",
   "version": "3.6.7"
  }
 },
 "nbformat": 4,
 "nbformat_minor": 2
}
