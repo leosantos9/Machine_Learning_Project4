{
 "cells": [
  {
   "cell_type": "code",
   "execution_count": 1,
   "metadata": {},
   "outputs": [],
   "source": [
    "import pandas as pd\n",
    "import numpy as np\n",
    "from nltk.tokenize import RegexpTokenizer\n",
    "from nltk.tokenize import word_tokenize\n",
    "from nltk.corpus import stopwords "
   ]
  },
  {
   "cell_type": "code",
   "execution_count": 5,
   "metadata": {},
   "outputs": [
    {
     "data": {
      "text/html": [
       "<div>\n",
       "<style scoped>\n",
       "    .dataframe tbody tr th:only-of-type {\n",
       "        vertical-align: middle;\n",
       "    }\n",
       "\n",
       "    .dataframe tbody tr th {\n",
       "        vertical-align: top;\n",
       "    }\n",
       "\n",
       "    .dataframe thead th {\n",
       "        text-align: right;\n",
       "    }\n",
       "</style>\n",
       "<table border=\"1\" class=\"dataframe\">\n",
       "  <thead>\n",
       "    <tr style=\"text-align: right;\">\n",
       "      <th></th>\n",
       "      <th>questions_id</th>\n",
       "      <th>questions_author_id</th>\n",
       "      <th>questions_date_added</th>\n",
       "      <th>questions_title</th>\n",
       "      <th>questions_body</th>\n",
       "    </tr>\n",
       "  </thead>\n",
       "  <tbody>\n",
       "    <tr>\n",
       "      <th>0</th>\n",
       "      <td>332a511f1569444485cf7a7a556a5e54</td>\n",
       "      <td>8f6f374ffd834d258ab69d376dd998f5</td>\n",
       "      <td>2016-04-26 11:14:26 UTC+0000</td>\n",
       "      <td>Teacher   career   question</td>\n",
       "      <td>What  is  a  maths  teacher?   what  is  a  ma...</td>\n",
       "    </tr>\n",
       "    <tr>\n",
       "      <th>1</th>\n",
       "      <td>eb80205482e4424cad8f16bc25aa2d9c</td>\n",
       "      <td>acccbda28edd4362ab03fb8b6fd2d67b</td>\n",
       "      <td>2016-05-20 16:48:25 UTC+0000</td>\n",
       "      <td>I want to become an army officer. What can I d...</td>\n",
       "      <td>I am Priyanka from Bangalore . Now am in 10th ...</td>\n",
       "    </tr>\n",
       "    <tr>\n",
       "      <th>2</th>\n",
       "      <td>4ec31632938a40b98909416bdd0decff</td>\n",
       "      <td>f2c179a563024ccc927399ce529094b5</td>\n",
       "      <td>2017-02-08 19:13:38 UTC+0000</td>\n",
       "      <td>Will going abroad for your first job increase ...</td>\n",
       "      <td>I'm planning on going abroad for my first job....</td>\n",
       "    </tr>\n",
       "    <tr>\n",
       "      <th>3</th>\n",
       "      <td>2f6a9a99d9b24e5baa50d40d0ba50a75</td>\n",
       "      <td>2c30ffba444e40eabb4583b55233a5a4</td>\n",
       "      <td>2017-09-01 14:05:32 UTC+0000</td>\n",
       "      <td>To become a specialist in business  management...</td>\n",
       "      <td>i hear business management is a hard way to ge...</td>\n",
       "    </tr>\n",
       "    <tr>\n",
       "      <th>4</th>\n",
       "      <td>5af8880460c141dbb02971a1a8369529</td>\n",
       "      <td>aa9eb1a2ab184ebbb00dc01ab663428a</td>\n",
       "      <td>2017-09-01 02:36:54 UTC+0000</td>\n",
       "      <td>Are there any scholarships out there for stude...</td>\n",
       "      <td>I'm trying to find scholarships for first year...</td>\n",
       "    </tr>\n",
       "  </tbody>\n",
       "</table>\n",
       "</div>"
      ],
      "text/plain": [
       "                       questions_id               questions_author_id  \\\n",
       "0  332a511f1569444485cf7a7a556a5e54  8f6f374ffd834d258ab69d376dd998f5   \n",
       "1  eb80205482e4424cad8f16bc25aa2d9c  acccbda28edd4362ab03fb8b6fd2d67b   \n",
       "2  4ec31632938a40b98909416bdd0decff  f2c179a563024ccc927399ce529094b5   \n",
       "3  2f6a9a99d9b24e5baa50d40d0ba50a75  2c30ffba444e40eabb4583b55233a5a4   \n",
       "4  5af8880460c141dbb02971a1a8369529  aa9eb1a2ab184ebbb00dc01ab663428a   \n",
       "\n",
       "           questions_date_added  \\\n",
       "0  2016-04-26 11:14:26 UTC+0000   \n",
       "1  2016-05-20 16:48:25 UTC+0000   \n",
       "2  2017-02-08 19:13:38 UTC+0000   \n",
       "3  2017-09-01 14:05:32 UTC+0000   \n",
       "4  2017-09-01 02:36:54 UTC+0000   \n",
       "\n",
       "                                     questions_title  \\\n",
       "0                        Teacher   career   question   \n",
       "1  I want to become an army officer. What can I d...   \n",
       "2  Will going abroad for your first job increase ...   \n",
       "3  To become a specialist in business  management...   \n",
       "4  Are there any scholarships out there for stude...   \n",
       "\n",
       "                                      questions_body  \n",
       "0  What  is  a  maths  teacher?   what  is  a  ma...  \n",
       "1  I am Priyanka from Bangalore . Now am in 10th ...  \n",
       "2  I'm planning on going abroad for my first job....  \n",
       "3  i hear business management is a hard way to ge...  \n",
       "4  I'm trying to find scholarships for first year...  "
      ]
     },
     "execution_count": 5,
     "metadata": {},
     "output_type": "execute_result"
    }
   ],
   "source": [
    "rank = pd.read_csv('../Data/questions.csv')\n",
    "rank.head()"
   ]
  },
  {
   "cell_type": "code",
   "execution_count": 6,
   "metadata": {},
   "outputs": [],
   "source": [
    "counts = {}\n",
    "stop_words = set(stopwords.words('english')) \n",
    "for line in np.arange(0, len(rank['questions_title'])):\n",
    "    tokenizer = RegexpTokenizer(r'\\w+')\n",
    "    results = tokenizer.tokenize(rank.iloc[line]['questions_title'])\n",
    "    #results = word_tokenize(rank.iloc[line]['questions_title'])\n",
    "    for word in results:\n",
    "        if word not in stop_words:\n",
    "            if word in counts:\n",
    "                counts[word.lower()] += 1\n",
    "            else:\n",
    "                counts[word.lower()] = 1\n",
    "    tokenizer = RegexpTokenizer(r'\\w+')\n",
    "    results = tokenizer.tokenize(rank.iloc[line]['questions_body'])\n",
    "    #results = word_tokenize(rank.iloc[line]['questions_body'])\n",
    "    for word in results:\n",
    "        if word not in stop_words:\n",
    "            if word in counts:\n",
    "                counts[word.lower()] += 1\n",
    "            else:\n",
    "                counts[word.lower()] = 1"
   ]
  },
  {
   "cell_type": "code",
   "execution_count": 7,
   "metadata": {},
   "outputs": [],
   "source": [
    "counts = sorted(counts.items(), key=lambda item: item[1])"
   ]
  },
  {
   "cell_type": "code",
   "execution_count": 8,
   "metadata": {
    "scrolled": false
   },
   "outputs": [
    {
     "name": "stdout",
     "output_type": "stream",
     "text": [
      "18496\n"
     ]
    }
   ],
   "source": [
    "print(len(counts))\n"
   ]
  },
  {
   "cell_type": "code",
   "execution_count": 9,
   "metadata": {},
   "outputs": [],
   "source": [
    "indexed = {'<NULL>': 0 , '<TITLE>': 1, '<BODY>': 2, '<NOTFOUND>': 3}\n",
    "ind = 4\n",
    "for key, value in counts:\n",
    "    indexed[key] = ind\n",
    "    ind += 1"
   ]
  },
  {
   "cell_type": "code",
   "execution_count": 10,
   "metadata": {},
   "outputs": [],
   "source": [
    "indexed = pd.DataFrame.from_dict(indexed, orient = 'index')"
   ]
  },
  {
   "cell_type": "code",
   "execution_count": 11,
   "metadata": {},
   "outputs": [],
   "source": [
    "indexed.to_csv('../Data/word_index.csv', header=False) "
   ]
  },
  {
   "cell_type": "code",
   "execution_count": null,
   "metadata": {},
   "outputs": [],
   "source": []
  }
 ],
 "metadata": {
  "kernelspec": {
   "display_name": "Python [conda env:PythonData]",
   "language": "python",
   "name": "conda-env-PythonData-py"
  },
  "language_info": {
   "codemirror_mode": {
    "name": "ipython",
    "version": 3
   },
   "file_extension": ".py",
   "mimetype": "text/x-python",
   "name": "python",
   "nbconvert_exporter": "python",
   "pygments_lexer": "ipython3",
   "version": "3.6.7"
  }
 },
 "nbformat": 4,
 "nbformat_minor": 2
}
